{
 "cells": [
  {
   "cell_type": "code",
   "execution_count": 104,
   "id": "b3edf7e4",
   "metadata": {},
   "outputs": [],
   "source": [
    "import pandas as pd\n",
    "import pickle\n",
    "\n",
    "from sklearn.model_selection import train_test_split\n",
    "from sklearn.ensemble import RandomForestClassifier \n",
    "from sklearn import metrics\n",
    "\n",
    "# contains 33 columns\n",
    "dataset_url = \"https://raw.githubusercontent.com/ejai215/FaizalCuba/main/out2.csv\"\n",
    "df = pd.read_csv(dataset_url, dtype = {'status': str})\n",
    "\n",
    "#df.info()"
   ]
  },
  {
   "cell_type": "code",
   "execution_count": 105,
   "id": "7ab80ba7",
   "metadata": {},
   "outputs": [
    {
     "data": {
      "text/html": [
       "<div>\n",
       "<style scoped>\n",
       "    .dataframe tbody tr th:only-of-type {\n",
       "        vertical-align: middle;\n",
       "    }\n",
       "\n",
       "    .dataframe tbody tr th {\n",
       "        vertical-align: top;\n",
       "    }\n",
       "\n",
       "    .dataframe thead th {\n",
       "        text-align: right;\n",
       "    }\n",
       "</style>\n",
       "<table border=\"1\" class=\"dataframe\">\n",
       "  <thead>\n",
       "    <tr style=\"text-align: right;\">\n",
       "      <th></th>\n",
       "      <th>mean</th>\n",
       "      <th>max</th>\n",
       "      <th>kurtosis</th>\n",
       "      <th>variance</th>\n",
       "      <th>onenorm</th>\n",
       "      <th>mean1</th>\n",
       "      <th>max1</th>\n",
       "      <th>kurtosis1</th>\n",
       "      <th>variance1</th>\n",
       "      <th>onenorm1</th>\n",
       "      <th>status</th>\n",
       "    </tr>\n",
       "  </thead>\n",
       "  <tbody>\n",
       "    <tr>\n",
       "      <th>0</th>\n",
       "      <td>-0.000020</td>\n",
       "      <td>6.976752</td>\n",
       "      <td>16.087093</td>\n",
       "      <td>0.111425</td>\n",
       "      <td>1.331746e+06</td>\n",
       "      <td>0.009558</td>\n",
       "      <td>33.622414</td>\n",
       "      <td>14.502220</td>\n",
       "      <td>7.907688</td>\n",
       "      <td>1.331746e+06</td>\n",
       "      <td>healthy</td>\n",
       "    </tr>\n",
       "    <tr>\n",
       "      <th>1</th>\n",
       "      <td>-0.000019</td>\n",
       "      <td>8.932420</td>\n",
       "      <td>13.212736</td>\n",
       "      <td>0.168242</td>\n",
       "      <td>1.055655e+06</td>\n",
       "      <td>0.002954</td>\n",
       "      <td>31.216814</td>\n",
       "      <td>12.244360</td>\n",
       "      <td>9.195284</td>\n",
       "      <td>1.055655e+06</td>\n",
       "      <td>healthy</td>\n",
       "    </tr>\n",
       "    <tr>\n",
       "      <th>2</th>\n",
       "      <td>-0.000047</td>\n",
       "      <td>7.912361</td>\n",
       "      <td>20.831987</td>\n",
       "      <td>0.147405</td>\n",
       "      <td>8.091255e+05</td>\n",
       "      <td>-0.005104</td>\n",
       "      <td>31.110516</td>\n",
       "      <td>12.372426</td>\n",
       "      <td>7.772573</td>\n",
       "      <td>8.091255e+05</td>\n",
       "      <td>healthy</td>\n",
       "    </tr>\n",
       "    <tr>\n",
       "      <th>3</th>\n",
       "      <td>-0.000557</td>\n",
       "      <td>35.947502</td>\n",
       "      <td>121.832101</td>\n",
       "      <td>1.085911</td>\n",
       "      <td>8.734991e+05</td>\n",
       "      <td>-0.002305</td>\n",
       "      <td>43.457676</td>\n",
       "      <td>12.853174</td>\n",
       "      <td>10.110199</td>\n",
       "      <td>8.734991e+05</td>\n",
       "      <td>severe</td>\n",
       "    </tr>\n",
       "    <tr>\n",
       "      <th>4</th>\n",
       "      <td>-0.000187</td>\n",
       "      <td>38.968124</td>\n",
       "      <td>258.544464</td>\n",
       "      <td>0.497547</td>\n",
       "      <td>7.341528e+05</td>\n",
       "      <td>0.008319</td>\n",
       "      <td>41.962177</td>\n",
       "      <td>19.590730</td>\n",
       "      <td>8.234116</td>\n",
       "      <td>7.341528e+05</td>\n",
       "      <td>severe</td>\n",
       "    </tr>\n",
       "  </tbody>\n",
       "</table>\n",
       "</div>"
      ],
      "text/plain": [
       "       mean        max    kurtosis  variance       onenorm     mean1  \\\n",
       "0 -0.000020   6.976752   16.087093  0.111425  1.331746e+06  0.009558   \n",
       "1 -0.000019   8.932420   13.212736  0.168242  1.055655e+06  0.002954   \n",
       "2 -0.000047   7.912361   20.831987  0.147405  8.091255e+05 -0.005104   \n",
       "3 -0.000557  35.947502  121.832101  1.085911  8.734991e+05 -0.002305   \n",
       "4 -0.000187  38.968124  258.544464  0.497547  7.341528e+05  0.008319   \n",
       "\n",
       "        max1  kurtosis1  variance1      onenorm1   status  \n",
       "0  33.622414  14.502220   7.907688  1.331746e+06  healthy  \n",
       "1  31.216814  12.244360   9.195284  1.055655e+06  healthy  \n",
       "2  31.110516  12.372426   7.772573  8.091255e+05  healthy  \n",
       "3  43.457676  12.853174  10.110199  8.734991e+05   severe  \n",
       "4  41.962177  19.590730   8.234116  7.341528e+05   severe  "
      ]
     },
     "execution_count": 105,
     "metadata": {},
     "output_type": "execute_result"
    }
   ],
   "source": [
    "#df.info()\n",
    "df.head(5)"
   ]
  },
  {
   "cell_type": "code",
   "execution_count": 106,
   "id": "f5a88ae7",
   "metadata": {},
   "outputs": [],
   "source": [
    "df['status'] = df['status'].map({'healthy':0,'severe':1,'mild':2,'mild2':3})\n",
    "#df[' max']    #.map({'severe':'s'})\n",
    "#print(df.to_string())\n",
    "\n",
    "train, test = train_test_split(df, test_size = 0.2)\n",
    "\n",
    "features = [ 'mean', 'max', 'kurtosis', 'variance','onenorm','mean1', 'max1', 'kurtosis1','variance1','onenorm1' ]\n",
    "\n",
    "train_X = train[features]\n",
    "train_y =train.status\n",
    "\n",
    "test_X = test[features]\n",
    "test_y = test.status\n"
   ]
  },
  {
   "cell_type": "code",
   "execution_count": 107,
   "id": "a5768ffd",
   "metadata": {},
   "outputs": [],
   "source": [
    "#df.head(5)"
   ]
  },
  {
   "cell_type": "code",
   "execution_count": 108,
   "id": "c3606aef",
   "metadata": {},
   "outputs": [
    {
     "name": "stdout",
     "output_type": "stream",
     "text": [
      "[2 0 2]\n"
     ]
    },
    {
     "data": {
      "text/plain": [
       "0.3333333333333333"
      ]
     },
     "execution_count": 108,
     "metadata": {},
     "output_type": "execute_result"
    }
   ],
   "source": [
    "model = RandomForestClassifier(n_estimators=200, n_jobs=-1)\n",
    "model.fit(train_X,train_y)\n",
    "\n",
    "prediction = model.predict(test_X)\n",
    "print(prediction)\n",
    "metrics.accuracy_score(prediction,test_y)"
   ]
  },
  {
   "cell_type": "code",
   "execution_count": 109,
   "id": "0907c464",
   "metadata": {},
   "outputs": [
    {
     "data": {
      "text/plain": [
       "Index(['mean', 'max', 'kurtosis', 'variance', 'onenorm', 'mean1', 'max1',\n",
       "       'kurtosis1', 'variance1', 'onenorm1'],\n",
       "      dtype='object')"
      ]
     },
     "execution_count": 109,
     "metadata": {},
     "output_type": "execute_result"
    }
   ],
   "source": [
    "test_X.columns"
   ]
  },
  {
   "cell_type": "code",
   "execution_count": 110,
   "id": "e871b035",
   "metadata": {},
   "outputs": [
    {
     "name": "stdout",
     "output_type": "stream",
     "text": [
      "[0]\n"
     ]
    }
   ],
   "source": [
    "data = [[-0.000021,6.976753,16.087094,0.111426,1.331747e+06,0.009559,33.622415,14.502221,7.907689,1.331747e+06]]\n",
    "\n",
    "# New dataframe for only the columns of interest\n",
    "dfNew = pd.DataFrame(data, columns = ['mean', 'max', 'kurtosis', 'variance', 'onenorm', 'mean1', 'max1',\n",
    "       'kurtosis1', 'variance1', 'onenorm1'])\n",
    "single = model.predict(dfNew)\n",
    "print(single)"
   ]
  },
  {
   "cell_type": "code",
   "execution_count": 111,
   "id": "5fe6060d",
   "metadata": {},
   "outputs": [],
   "source": [
    "#print(test_X)"
   ]
  },
  {
   "cell_type": "code",
   "execution_count": 112,
   "id": "0a2bf2d4",
   "metadata": {},
   "outputs": [],
   "source": [
    "#print(test_y)"
   ]
  },
  {
   "cell_type": "code",
   "execution_count": 113,
   "id": "69893f78",
   "metadata": {},
   "outputs": [],
   "source": [
    "fname = 'PumpPredictionModel.pkl'\n",
    "pickle.dump(model, open(fname, 'wb'))"
   ]
  }
 ],
 "metadata": {
  "kernelspec": {
   "display_name": "Python 3 (ipykernel)",
   "language": "python",
   "name": "python3"
  },
  "language_info": {
   "codemirror_mode": {
    "name": "ipython",
    "version": 3
   },
   "file_extension": ".py",
   "mimetype": "text/x-python",
   "name": "python",
   "nbconvert_exporter": "python",
   "pygments_lexer": "ipython3",
   "version": "3.9.13"
  }
 },
 "nbformat": 4,
 "nbformat_minor": 5
}
